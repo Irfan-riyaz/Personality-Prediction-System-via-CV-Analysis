{
  "nbformat": 4,
  "nbformat_minor": 0,
  "metadata": {
    "colab": {
      "provenance": []
    },
    "kernelspec": {
      "name": "python3",
      "display_name": "Python 3"
    },
    "language_info": {
      "name": "python"
    }
  },
  "cells": [
    {
      "cell_type": "code",
      "execution_count": null,
      "metadata": {
        "id": "uc-FrfIDmCDq"
      },
      "outputs": [],
      "source": [
        "!pip install --upgrade nltk scikit-learn pandas matplotlib PyPDF2\n",
        "\n",
        "# Force clean install of nltk data\n",
        "import nltk\n",
        "nltk.download('punkt', force=True)\n",
        "nltk.download('stopwords', force=True)\n"
      ]
    },
    {
      "cell_type": "code",
      "source": [
        "import re\n",
        "import pandas as pd\n",
        "import numpy as np\n",
        "import matplotlib.pyplot as plt\n",
        "import nltk\n",
        "import PyPDF2\n",
        "\n",
        "from sklearn.feature_extraction.text import TfidfVectorizer\n",
        "from nltk.tokenize import word_tokenize\n",
        "from nltk.corpus import stopwords\n"
      ],
      "metadata": {
        "id": "QUHnfjYymNHg"
      },
      "execution_count": null,
      "outputs": []
    },
    {
      "cell_type": "code",
      "source": [
        "from google.colab import files\n",
        "\n",
        "# Upload your resume (PDF format)\n",
        "uploaded = files.upload()\n"
      ],
      "metadata": {
        "id": "w-PVFO2bmP3-"
      },
      "execution_count": null,
      "outputs": []
    },
    {
      "cell_type": "code",
      "source": [
        "def extract_text_from_pdf(pdf_path):\n",
        "    with open(pdf_path, 'rb') as file:\n",
        "        reader = PyPDF2.PdfReader(file)\n",
        "        text = \"\"\n",
        "        for page in reader.pages:\n",
        "            if page.extract_text():\n",
        "                text += page.extract_text()\n",
        "        return text\n",
        "\n",
        "# Auto-detect uploaded file\n",
        "pdf_filename = list(uploaded.keys())[0]\n",
        "cv_text = extract_text_from_pdf(pdf_filename)\n",
        "\n",
        "print(\"📄 Extracted CV Text Preview:\\n\")\n",
        "print(cv_text[:1000])\n"
      ],
      "metadata": {
        "id": "YlN8CeI2mSiR"
      },
      "execution_count": null,
      "outputs": []
    },
    {
      "cell_type": "code",
      "source": [
        "import re\n",
        "from sklearn.feature_extraction.text import ENGLISH_STOP_WORDS\n",
        "\n",
        "def preprocess_text(text):\n",
        "    # Convert to lowercase\n",
        "    text = text.lower()\n",
        "\n",
        "    # Remove special characters and digits\n",
        "    text = re.sub(r'[^a-z\\s]', '', text)\n",
        "\n",
        "    # Tokenize using regex split (no nltk)\n",
        "    tokens = text.split()\n",
        "\n",
        "    # Remove stopwords using scikit-learn's stopwords\n",
        "    tokens = [word for word in tokens if word not in ENGLISH_STOP_WORDS]\n",
        "\n",
        "    return \" \".join(tokens)\n",
        "\n",
        "# Apply preprocessing safely\n",
        "processed_cv_text = preprocess_text(cv_text)\n",
        "\n",
        "# Show preview\n",
        "print(\"🧹 Preprocessed CV Text:\\n\")\n",
        "print(processed_cv_text[:500])\n"
      ],
      "metadata": {
        "id": "JMCI1G_fmVYo"
      },
      "execution_count": null,
      "outputs": []
    },
    {
      "cell_type": "code",
      "source": [
        "vectorizer = TfidfVectorizer(max_features=100)\n",
        "X_cv = vectorizer.fit_transform([processed_cv_text]).toarray()\n",
        "\n",
        "print(\"✅ TF-IDF Feature Vector Shape:\", X_cv.shape)\n"
      ],
      "metadata": {
        "id": "q9sNMEeMmX_A"
      },
      "execution_count": null,
      "outputs": []
    },
    {
      "cell_type": "code",
      "source": [
        "traits_keywords = {\n",
        "    \"Openness\": [\"creative\", \"curious\", \"imaginative\", \"innovation\", \"design\"],\n",
        "    \"Conscientiousness\": [\"organized\", \"responsible\", \"dependable\", \"punctual\", \"plan\"],\n",
        "    \"Extraversion\": [\"outgoing\", \"energetic\", \"team\", \"communication\", \"public\"],\n",
        "    \"Agreeableness\": [\"cooperative\", \"friendly\", \"kind\", \"empathetic\", \"collaboration\"],\n",
        "    \"Neuroticism\": [\"anxious\", \"moody\", \"tense\", \"insecure\", \"nervous\"]\n",
        "}\n",
        "\n",
        "trait_scores = {}\n",
        "for trait, keywords in traits_keywords.items():\n",
        "    trait_scores[trait] = sum(processed_cv_text.count(word) for word in keywords)\n",
        "\n",
        "trait_scores\n"
      ],
      "metadata": {
        "id": "CYChgJNdmaA_"
      },
      "execution_count": null,
      "outputs": []
    },
    {
      "cell_type": "code",
      "source": [
        "plt.figure(figsize=(10, 5))\n",
        "plt.bar(trait_scores.keys(), trait_scores.values(), color='teal')\n",
        "plt.title(\"🧠 Predicted Personality Traits from CV\")\n",
        "plt.xlabel(\"Personality Trait\")\n",
        "plt.ylabel(\"Keyword Frequency\")\n",
        "plt.grid(True)\n",
        "plt.show()\n"
      ],
      "metadata": {
        "id": "eZxKJtD0ma8_"
      },
      "execution_count": null,
      "outputs": []
    }
  ]
}